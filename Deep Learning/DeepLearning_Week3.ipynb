{
 "cells": [
  {
   "cell_type": "code",
   "execution_count": 33,
   "metadata": {},
   "outputs": [],
   "source": [
    "import os\n",
    "import getpass\n",
    "\n",
    "from utils import *\n",
    "import tensorflow as tf\n",
    "from tensorflow.keras.models import Sequential, Model\n",
    "from tensorflow.keras.optimizers import SGD, Adam\n",
    "from tensorflow.keras.layers import Flatten, Dense, Reshape, Dropout, BatchNormalization\n",
    "from tensorflow.keras.preprocessing.image import ImageDataGenerator\n",
    "#from tensorflow.keras.utils.vis_utils import plot_model\n",
    "import matplotlib.pyplot as plt\n",
    "from PIL import Image\n",
    "import numpy as np\n",
    "import cv2\n",
    "import pickle\n",
    "\n",
    "#Sklearn \n",
    "from sklearn import svm\n",
    "from sklearn.preprocessing import StandardScaler\n",
    "from sklearn.metrics import accuracy_score\n",
    "\n",
    "plt.style.use('ggplot')"
   ]
  },
  {
   "cell_type": "code",
   "execution_count": 34,
   "metadata": {},
   "outputs": [
    {
     "name": "stdout",
     "output_type": "stream",
     "text": [
      "Num GPUs Available:  1\n"
     ]
    }
   ],
   "source": [
    "print(\"Num GPUs Available: \", len(tf.config.experimental.list_physical_devices('GPU')))\n",
    "classes = {'coast':0,'forest':1,'highway':2,'inside_city':3,'mountain':4,'Opencountry':5,'street':6,'tallbuilding':7}"
   ]
  },
  {
   "cell_type": "code",
   "execution_count": 35,
   "metadata": {},
   "outputs": [],
   "source": [
    "train_images_filenames = pickle.load(open('../train_images_filenames.dat','rb'))\n",
    "test_images_filenames = pickle.load(open('../test_images_filenames.dat','rb'))\n",
    "train_images_filenames = ['../..' + n[15:] for n in train_images_filenames]\n",
    "test_images_filenames  = ['../..' + n[15:] for n in test_images_filenames]\n",
    "train_labels = pickle.load(open('../train_labels.dat','rb'))\n",
    "test_labels = pickle.load(open('../test_labels.dat','rb'))"
   ]
  },
  {
   "cell_type": "markdown",
   "metadata": {},
   "source": [
    "# Model Training\n",
    "\n",
    "We will first start by training the best possible Neural Network. To do so we can play on a lot of parameters : Input image size, number of layers, number of neurons per layer, ... This neural network will be our basis to feed learnt features to a SVM model later on, we thus will try to optimize it as much as we can.\n",
    "\n",
    "The code below was run with different parameters in order to train competing models."
   ]
  },
  {
   "cell_type": "code",
   "execution_count": 36,
   "metadata": {},
   "outputs": [],
   "source": [
    "TRAIN = True\n",
    "#user defined variables\n",
    "IMG_SIZE    = 128\n",
    "BATCH_SIZE  = 256\n",
    "EPOCHS = 25\n",
    "\n",
    "#DATASET_DIR = '/home/mcv/datasets/MIT_split'\n",
    "#MODEL_FNAME = '/home/group01/work/my_first_mlp.h5'\n",
    "DATASET_DIR = '../../MIT_split'\n",
    "MODEL_FNAME = '../../my_first_mlp.h5'"
   ]
  },
  {
   "cell_type": "code",
   "execution_count": 37,
   "metadata": {},
   "outputs": [],
   "source": [
    "if not os.path.exists(DATASET_DIR):\n",
    "  print(Color.RED, 'ERROR: dataset directory '+DATASET_DIR+' do not exists!\\n')"
   ]
  },
  {
   "cell_type": "code",
   "execution_count": 38,
   "metadata": {},
   "outputs": [
    {
     "name": "stdout",
     "output_type": "stream",
     "text": [
      "Building MLP model...\n",
      "\n",
      "Model: \"sequential_4\"\n",
      "_________________________________________________________________\n",
      " Layer (type)                Output Shape              Param #   \n",
      "=================================================================\n",
      " first (Reshape)             (None, 49152)             0         \n",
      "                                                                 \n",
      " batch_normalization_4 (Batc  (None, 49152)            196608    \n",
      " hNormalization)                                                 \n",
      "                                                                 \n",
      " dropout_6 (Dropout)         (None, 49152)             0         \n",
      "                                                                 \n",
      " second (Dense)              (None, 2048)              100665344 \n",
      "                                                                 \n",
      " batch_normalization_5 (Batc  (None, 2048)             8192      \n",
      " hNormalization)                                                 \n",
      "                                                                 \n",
      " dropout_7 (Dropout)         (None, 2048)              0         \n",
      "                                                                 \n",
      " third (Dense)               (None, 1024)              2098176   \n",
      "                                                                 \n",
      " dropout_8 (Dropout)         (None, 1024)              0         \n",
      "                                                                 \n",
      " fourth (Dense)              (None, 512)               524800    \n",
      "                                                                 \n",
      " fifth (Dense)               (None, 256)               131328    \n",
      "                                                                 \n",
      " dense_4 (Dense)             (None, 8)                 2056      \n",
      "                                                                 \n",
      "=================================================================\n",
      "Total params: 103,626,504\n",
      "Trainable params: 103,524,104\n",
      "Non-trainable params: 102,400\n",
      "_________________________________________________________________\n",
      "None\n",
      "Done!\n",
      "\n"
     ]
    }
   ],
   "source": [
    "if TRAIN:\n",
    "    print('Building MLP model...\\n')\n",
    "\n",
    "    #Build the Multi Layer Perceptron model\n",
    "    model = Sequential()\n",
    "    model.add(Reshape((IMG_SIZE*IMG_SIZE*3,), input_shape=(IMG_SIZE, IMG_SIZE, 3), name='first'))\n",
    "    model.add(BatchNormalization())\n",
    "    model.add(Dropout(0.2))\n",
    "    model.add(Dense(units=2048, activation='relu',name='second'))\n",
    "    model.add(BatchNormalization())\n",
    "    model.add(Dropout(0.2))\n",
    "    model.add(Dense(units=1024, activation='relu', name='third'))\n",
    "    model.add(Dropout(0.2))\n",
    "    model.add(Dense(units=512, activation='relu', name='fourth'))\n",
    "    model.add(Dense(units=256, activation='relu', name='fifth'))\n",
    "    model.add(Dense(units=8, activation='softmax'))\n",
    "\n",
    "    optimizer = SGD(learning_rate=1e-4, momentum=0.9, nesterov=True)\n",
    "\n",
    "    model.compile(loss='categorical_crossentropy',\n",
    "                optimizer=optimizer,\n",
    "                metrics=['accuracy'])\n",
    "\n",
    "    print(model.summary())\n",
    "    #plot_model(model, to_file='modelMLP.png', show_shapes=True, show_layer_names=True)\n",
    "\n",
    "    print('Done!\\n')"
   ]
  },
  {
   "cell_type": "code",
   "execution_count": 39,
   "metadata": {},
   "outputs": [
    {
     "name": "stdout",
     "output_type": "stream",
     "text": [
      "WARNING: model file ../../my_first_mlp_128x128_all.h5 exists and will be overwritten!\n",
      "\n",
      "Start training...\n",
      "\n",
      "Found 1881 images belonging to 8 classes.\n",
      "Found 807 images belonging to 8 classes.\n",
      "Epoch 1/25\n",
      "7/7 [==============================] - 8s 1s/step - loss: 0.5663 - accuracy: 0.8006 - val_loss: 0.9045 - val_accuracy: 0.6992\n",
      "Epoch 2/25\n",
      "7/7 [==============================] - 7s 1s/step - loss: 0.5731 - accuracy: 0.8006 - val_loss: 0.9069 - val_accuracy: 0.7031\n",
      "Epoch 3/25\n",
      "7/7 [==============================] - 8s 1s/step - loss: 0.5829 - accuracy: 0.7919 - val_loss: 0.9117 - val_accuracy: 0.6992\n",
      "Epoch 4/25\n",
      "7/7 [==============================] - 7s 1s/step - loss: 0.5855 - accuracy: 0.7932 - val_loss: 0.9080 - val_accuracy: 0.7018\n",
      "Epoch 5/25\n",
      "7/7 [==============================] - 7s 998ms/step - loss: 0.5958 - accuracy: 0.7938 - val_loss: 0.9298 - val_accuracy: 0.6914\n",
      "Epoch 6/25\n",
      "7/7 [==============================] - 7s 1s/step - loss: 0.5838 - accuracy: 0.8006 - val_loss: 0.9127 - val_accuracy: 0.6966\n",
      "Epoch 7/25\n",
      "7/7 [==============================] - 7s 982ms/step - loss: 0.5703 - accuracy: 0.8018 - val_loss: 0.9163 - val_accuracy: 0.6914\n",
      "Epoch 8/25\n",
      "7/7 [==============================] - 7s 989ms/step - loss: 0.5966 - accuracy: 0.7895 - val_loss: 0.9218 - val_accuracy: 0.6940\n",
      "Epoch 9/25\n",
      "7/7 [==============================] - 7s 1s/step - loss: 0.5661 - accuracy: 0.8111 - val_loss: 0.9282 - val_accuracy: 0.6862\n",
      "Epoch 10/25\n",
      "7/7 [==============================] - 7s 994ms/step - loss: 0.6013 - accuracy: 0.7883 - val_loss: 0.9162 - val_accuracy: 0.6940\n",
      "Epoch 11/25\n",
      "7/7 [==============================] - 7s 1s/step - loss: 0.5665 - accuracy: 0.8092 - val_loss: 0.8984 - val_accuracy: 0.7018\n",
      "Epoch 12/25\n",
      "7/7 [==============================] - 7s 982ms/step - loss: 0.5392 - accuracy: 0.8197 - val_loss: 0.8885 - val_accuracy: 0.7018\n",
      "Epoch 13/25\n",
      "7/7 [==============================] - 8s 1s/step - loss: 0.5698 - accuracy: 0.7868 - val_loss: 0.9133 - val_accuracy: 0.6992\n",
      "Epoch 14/25\n",
      "7/7 [==============================] - 7s 1s/step - loss: 0.5522 - accuracy: 0.7982 - val_loss: 0.9130 - val_accuracy: 0.6966\n",
      "Epoch 15/25\n",
      "7/7 [==============================] - 7s 1s/step - loss: 0.5743 - accuracy: 0.8037 - val_loss: 0.9005 - val_accuracy: 0.6979\n",
      "Epoch 16/25\n",
      "7/7 [==============================] - 7s 1s/step - loss: 0.6057 - accuracy: 0.7828 - val_loss: 0.8933 - val_accuracy: 0.7031\n",
      "Epoch 17/25\n",
      "7/7 [==============================] - 7s 1s/step - loss: 0.5673 - accuracy: 0.7920 - val_loss: 0.9112 - val_accuracy: 0.6914\n",
      "Epoch 18/25\n",
      "7/7 [==============================] - 7s 980ms/step - loss: 0.5369 - accuracy: 0.8142 - val_loss: 0.9001 - val_accuracy: 0.6992\n",
      "Epoch 19/25\n",
      "7/7 [==============================] - 7s 1s/step - loss: 0.5903 - accuracy: 0.7877 - val_loss: 0.8951 - val_accuracy: 0.6992\n",
      "Epoch 20/25\n",
      "7/7 [==============================] - 7s 991ms/step - loss: 0.5665 - accuracy: 0.8006 - val_loss: 0.9087 - val_accuracy: 0.6953\n",
      "Epoch 21/25\n",
      "7/7 [==============================] - 7s 991ms/step - loss: 0.5740 - accuracy: 0.8092 - val_loss: 0.9056 - val_accuracy: 0.6979\n",
      "Epoch 22/25\n",
      "7/7 [==============================] - 7s 1s/step - loss: 0.5695 - accuracy: 0.7889 - val_loss: 0.8995 - val_accuracy: 0.7031\n",
      "Epoch 23/25\n",
      "7/7 [==============================] - 7s 1s/step - loss: 0.5482 - accuracy: 0.8117 - val_loss: 0.9267 - val_accuracy: 0.6927\n",
      "Epoch 24/25\n",
      "7/7 [==============================] - 8s 1s/step - loss: 0.5722 - accuracy: 0.8030 - val_loss: 0.9130 - val_accuracy: 0.6992\n",
      "Epoch 25/25\n",
      "7/7 [==============================] - 7s 1s/step - loss: 0.5663 - accuracy: 0.8037 - val_loss: 0.9079 - val_accuracy: 0.6992\n",
      "Done!\n",
      "\n",
      "Saving the model into ../../my_first_mlp_128x128_all.h5 \n",
      "\n",
      "Done!\n",
      "\n"
     ]
    }
   ],
   "source": [
    "if TRAIN:\n",
    "    if os.path.exists(MODEL_FNAME):\n",
    "        print('WARNING: model file '+MODEL_FNAME+' exists and will be overwritten!\\n')\n",
    "        model.load_weights(MODEL_FNAME)\n",
    "\n",
    "    print('Start training...\\n')\n",
    "\n",
    "    # this is the dataset configuration we will use for training\n",
    "    # only rescaling\n",
    "    train_datagen = ImageDataGenerator(\n",
    "            rescale=1./255,\n",
    "            horizontal_flip=True, \n",
    "            rotation_range=10, # rotation\n",
    "            width_shift_range=0.2, # horizontal shift\n",
    "            height_shift_range=0.2, # vertical shift\n",
    "            brightness_range=[0.7,1.2]) # brightness)\n",
    "            \n",
    "\n",
    "    # this is the dataset configuration we will use for testing:\n",
    "    # only rescaling\n",
    "    test_datagen = ImageDataGenerator(rescale=1./255)\n",
    "\n",
    "    # this is a generator that will read pictures found in\n",
    "    # subfolers of 'data/train', and indefinitely generate\n",
    "    # batches of augmented image data\n",
    "    train_generator = train_datagen.flow_from_directory(\n",
    "            DATASET_DIR+'/train',  # this is the target directory\n",
    "            target_size=(IMG_SIZE, IMG_SIZE),  # all images will be resized to IMG_SIZExIMG_SIZE\n",
    "            batch_size=BATCH_SIZE,\n",
    "            classes = ['coast','forest','highway','inside_city','mountain','Opencountry','street','tallbuilding'],\n",
    "            class_mode='categorical')  # since we use binary_crossentropy loss, we need categorical labels\n",
    "\n",
    "    # this is a similar generator, for validation data\n",
    "    validation_generator = test_datagen.flow_from_directory(\n",
    "            DATASET_DIR+'/test',\n",
    "            target_size=(IMG_SIZE, IMG_SIZE),\n",
    "            batch_size=BATCH_SIZE,\n",
    "            classes = ['coast','forest','highway','inside_city','mountain','Opencountry','street','tallbuilding'],\n",
    "            class_mode='categorical')\n",
    "\n",
    "    history = model.fit(\n",
    "            train_generator,\n",
    "            steps_per_epoch=1881 // BATCH_SIZE,\n",
    "            epochs=EPOCHS,\n",
    "            validation_data=validation_generator,\n",
    "            validation_steps=807 // BATCH_SIZE)\n",
    "\n",
    "    print('Done!\\n')\n",
    "    print('Saving the model into '+MODEL_FNAME+' \\n')\n",
    "    model.save_weights(MODEL_FNAME)  # always save your weights after training or during training\n",
    "    print('Done!\\n')"
   ]
  },
  {
   "cell_type": "code",
   "execution_count": 40,
   "metadata": {},
   "outputs": [
    {
     "name": "stdout",
     "output_type": "stream",
     "text": [
      "\u001b[32mAccuracy on the training set : 0.799\n",
      "\u001b[0m\u001b[34mAccuracy on the test set : 0.698\u001b[0m"
     ]
    }
   ],
   "source": [
    "colorprint(Color.GREEN, \"Accuracy on the training set : \" + str(round(np.mean(history.history[\"accuracy\"][-10:]),3)) + \"\\n\")\n",
    "colorprint(Color.BLUE , \"Accuracy on the test set : \" + str(round(np.mean(history.history[\"val_accuracy\"][-10:]) ,3)) )"
   ]
  },
  {
   "cell_type": "code",
   "execution_count": 41,
   "metadata": {},
   "outputs": [
    {
     "data": {
      "image/png": "[encoded data removed]",
      "text/plain": [
       "<Figure size 720x360 with 1 Axes>"
      ]
     },
     "metadata": {},
     "output_type": "display_data"
    },
    {
     "data": {
      "image/png": "[encoded data removed]",
      "text/plain": [
       "<Figure size 720x360 with 1 Axes>"
      ]
     },
     "metadata": {},
     "output_type": "display_data"
    }
   ],
   "source": [
    "if TRAIN:\n",
    "    # summarize history for accuracy\n",
    "    plt.figure(figsize=(10,5))\n",
    "    plt.plot(history.history['accuracy'])\n",
    "    plt.plot(history.history['val_accuracy'])\n",
    "    plt.title('Model accuracy')\n",
    "    plt.ylabel('accuracy')\n",
    "    plt.xlabel('epoch')\n",
    "    plt.legend(['train', 'validation'], loc='upper left')\n",
    "    plt.savefig('accuracy.jpg')\n",
    "    #plt.close()\n",
    "    # summarize history for loss\n",
    "    plt.figure(figsize=(10,5))\n",
    "    plt.plot(history.history['loss'])\n",
    "    plt.plot(history.history['val_loss'])\n",
    "    plt.title('Model loss')\n",
    "    plt.ylabel('loss')\n",
    "    plt.xlabel('epoch')\n",
    "    plt.legend(['train', 'validation'], loc='upper left')\n",
    "    plt.savefig('loss.jpg')"
   ]
  },
  {
   "cell_type": "markdown",
   "metadata": {},
   "source": [
    "***\n",
    "\n",
    "## Experiments and model improvement\n",
    "\n",
    "Here are the results of the different experiements we tried in order to get the best possible Neural Netwotrk : \n",
    "\n",
    "### Metric\n",
    "\n",
    "In order to compare the performances of the different models we are going to train, we need to choose a metric. The metric we decided to use is the mean accuracy of the model on the last 10 epochs of the training phase, both on the traing and on the test set. The higher the accuracy is, the best the model is to predict which scene the image is taken from."
   ]
  },
  {
   "cell_type": "markdown",
   "metadata": {},
   "source": [
    "___ \n",
    "\n",
    "### Experiment 1 : Number of layers\n",
    "\n",
    "The first experiment we wanted to conduct was to see the importance of the number of dense layers in the model. We chose a reference image size of $128 \\times 128$ that is gonna be the same for every model, as well as a Batch Size of $256$. Models will be trained for $100$-$200$ epochs. \n",
    "\n",
    "The different models that we are going to try are the following :\n",
    "- $model_1$ : 1 layer -> 2048\n",
    "- $model_2$ : 2 layers -> 2048-1024\n",
    "- $model_3$ : 3 layers -> 2048-1024-512\n",
    "- $model_4$ : 4 layers -> 2048-1024-512-256\n",
    "- $model_5$ : 5 layers -> 2048-1024-512-256-128\n",
    "\n",
    "**Expected Results :** We expect that adding more layers would improve accuracy. \n",
    "\n",
    "The results we obtained are the following : \n",
    "\n",
    "| Model name | Training Accuracy | Validation Accuracy |\n",
    "|:---------:|:---------:|:---------:|\n",
    "| $model_1$  | 0.724 | 0.572 |\n",
    "| $model_2$  | 0.823 | 0.608 |\n",
    "| $model_3$  | **0.909** | 0.613 |\n",
    "| $model_4$  | 0.905 | **0.620** |\n",
    "| $model_5$  | 0.895 | 0.617 |\n",
    "\n",
    "**Conclusion :**\n",
    "> We notice that increasing the number of layers improves the accuracy on the training and validation images. We can also note that bigger models tend to overfit more than the smaller ones. Regularization techniques will be furtherly applied to try to reduce this effect. After the $4\\ layers$ model, performance seems to stagnate. For th following experiments, we will use the $2048 \\times 1024 \\times 512 \\times 256$ model. \n",
    "\n",
    ".\n",
    "\n",
    "One Layer          |  Two Layers | Three Layers          |  Four Layers\n",
    ":-------------------------:|:-------------------------: | :-------------------------:|:-------------------------:\n",
    "![](images/accuracy_1_layer.jpg)  |  ![](images/accuracy_2_layer.jpg) |![](images/accuracy_3_layer.jpg)  |  ![](images/accuracy_4_layer.jpg)\n",
    "![](images/loss_1_layer.jpg)  |  ![](images/loss_2_layer.jpg) |![](images/loss_3_layer.jpg)  |  ![](images/loss_4_layer.jpg)"
   ]
  },
  {
   "cell_type": "markdown",
   "metadata": {},
   "source": [
    "___\n",
    "\n",
    "### Experiment 2 : Input Image size\n",
    "\n",
    "The second experiment we wanted to try was to see how input image size would improve or decrease performance. All the models will be trained for 150 epochs. For the last experiment, we've been using $128 \\times 128$ images, here we will try our previous best performing model with the following input image sizes :\n",
    "\n",
    "- $model_{32}$ : $32 \\times 32$ images\n",
    "- $model_{64}$ : $64 \\times 64$ images\n",
    "- $model_{128}$ : $128 \\times 128$ images\n",
    "- $model_{180}$ : $180 \\times 180$ images\n",
    "\n",
    "**Expected Results :** We expect that higher image resolution would improve accuracy. \n",
    "\n",
    "| Model name | Training Accuracy | Validation Accuracy |\n",
    "|:---------:|:---------:|:---------:|\n",
    "| $model_{32}$  | 0.716 | 0.567 |\n",
    "| $model_{64}$ | 0.765 | 0.586 |\n",
    "| $model_{128}$  | 0.906 | **0.624** |\n",
    "| $model_{180}$  | **0.931** | 0.620 |\n",
    "\n",
    "**Conclusion :**\n",
    "> We notice that increasing image size does improve performance as expected. We also notice that further than $128 \\times 128$, increasing the image size doesn't improve validation accuracy but does increase the overtraining gap. For the following experiments the $128 \\times 128$ image size will be our default one."
   ]
  },
  {
   "cell_type": "markdown",
   "metadata": {},
   "source": [
    "___\n",
    "### Experiment 3 : Augmentations and model tweaking\n",
    "\n",
    "On this final experiment, we will see if Data Augmentation and other common techniques could improve the performances of our model. For the previous experiments, the model was only made of Dense layers and the only augmentation method used was the horizontal_flip. The different techniques we are going to try are the following : \n",
    "\n",
    "- Augmentation : Rotation \n",
    "- Augmentation : Rotation + Sihft\n",
    "- Augmentation : Rotation + Sihft + Brightness\n",
    "- Batch Normalization \n",
    "- Dropout \n",
    "\n",
    "| Model name | Training Accuracy | Validation Accuracy |\n",
    "|:---------:|:---------:|:---------:|\n",
    "| Rotation  | 0.930 | 0.600 |\n",
    "| Brightness  | 0.925 | 0.584 |\n",
    "| Rotation + Shift + Brightness  | 0.776 | 0.701 |\n",
    "| Dropout  | 0.821 | 0.625 |\n",
    "| Batch Normalisation  | 0.995 | 0.639 |\n",
    "| All | 0.799 | 0.698 |\n",
    "\n",
    "Augmentation, takes more epoch but promising\n",
    "100 epochs - .557 .535\n",
    "200 epochs - 0.635 0.637\n",
    "300 - 0.677 0.651\n",
    "500 epochs + learning rate reduced\n",
    "Training takes much more time\n",
    "\n",
    "BatchNorm, much faster convergence\n",
    "\n",
    "Dropout, doesn't seem to change much"
   ]
  },
  {
   "cell_type": "code",
   "execution_count": null,
   "metadata": {},
   "outputs": [],
   "source": []
  },
  {
   "cell_type": "markdown",
   "metadata": {},
   "source": [
    "___\n",
    "\n",
    "# Analysis\n",
    "\n",
    "### Trained models against previous techniques\n",
    "\n",
    "Here we will compare the performances of an end-to-end MLP against the performances of a SVM classifier trained on the features learned by this same MLP.\n"
   ]
  },
  {
   "cell_type": "markdown",
   "metadata": {},
   "source": [
    "#### End to end Multi-Layer Perceptron\n",
    "\n",
    "After training a Neural Network with the code above, we will benchmark the performances of this model on our test dataset."
   ]
  },
  {
   "cell_type": "code",
   "execution_count": 42,
   "metadata": {},
   "outputs": [],
   "source": [
    "#Build the Multi Layer Perceptron model\n",
    "IMG_SIZE = 128\n",
    "model = Sequential()\n",
    "model.add(Reshape((IMG_SIZE*IMG_SIZE*3,), input_shape=(IMG_SIZE, IMG_SIZE, 3), name='first'))\n",
    "model.add(Dense(units=2048, activation='relu',name='second'))\n",
    "model.add(Dense(units=1024, activation='relu', name='third'))\n",
    "model.add(Dense(units=512, activation='relu', name='fourth'))\n",
    "model.add(Dense(units=258, activation='relu', name='fifth'))\n",
    "model.add(Dense(units=8, activation='softmax'))"
   ]
  },
  {
   "cell_type": "code",
   "execution_count": 43,
   "metadata": {},
   "outputs": [],
   "source": [
    "#Load Model Weight\n",
    "MODEL_LOAD_NAME = '../../my_first_mlp_128x128_150epoch.h5'\n",
    "model.load_weights(MODEL_LOAD_NAME)"
   ]
  },
  {
   "cell_type": "code",
   "execution_count": 44,
   "metadata": {},
   "outputs": [
    {
     "name": "stdout",
     "output_type": "stream",
     "text": [
      "\u001b[34mDone!images: 807 / 807\n",
      "\u001b[0m\u001b[32mTest Acc. = 0.6468401486988847\n",
      "\u001b[0m"
     ]
    }
   ],
   "source": [
    "directory = DATASET_DIR+'/test'\n",
    "\n",
    "correct = 0\n",
    "total   = 807\n",
    "count   = 0\n",
    "\n",
    "for imname, label in zip(test_images_filenames, test_labels):\n",
    "    im = np.asarray(Image.open(os.path.join(imname)))\n",
    "    im = np.expand_dims(cv2.resize(im, (IMG_SIZE, IMG_SIZE)), axis=0)\n",
    "    cls = classes[label]\n",
    "    out = model.predict(im)\n",
    "    predicted_cls = np.argmax( out )\n",
    "    if predicted_cls == cls:\n",
    "        correct+=1\n",
    "    count += 1\n",
    "    print('Evaluated images: '+str(count)+' / '+str(total), end='\\r')\n",
    "    \n",
    "colorprint(Color.BLUE, 'Done!\\n')\n",
    "colorprint(Color.GREEN, 'Test Acc. = '+str(correct/total)+'\\n')"
   ]
  },
  {
   "cell_type": "markdown",
   "metadata": {},
   "source": [
    "### SVM Classifier with learnt features"
   ]
  },
  {
   "cell_type": "code",
   "execution_count": 45,
   "metadata": {},
   "outputs": [],
   "source": [
    "model_layer = Model(inputs=model.input, outputs=model.get_layer('fourth').output)\n",
    "layer_preds = []\n",
    "layer_classes = []"
   ]
  },
  {
   "cell_type": "code",
   "execution_count": 46,
   "metadata": {},
   "outputs": [],
   "source": [
    "if not os.path.exists(\"train_layer_preds.pkl\"):\n",
    "\n",
    "    #We will start by creating features training sets\n",
    "    count, total = 0, 1881\n",
    "\n",
    "    for imname, label in zip(train_images_filenames, train_labels):\n",
    "        im = np.asarray(Image.open(os.path.join(imname)))\n",
    "        im = np.expand_dims(cv2.resize(im, (IMG_SIZE, IMG_SIZE)), axis=0)\n",
    "        cls = classes[label]\n",
    "\n",
    "        layer_preds.append(model_layer.predict(im))\n",
    "        layer_classes.append(cls)\n",
    "    \n",
    "        count += 1\n",
    "        print('Added images: '+ str(count)+' / '+str(total), end='\\r')\n",
    "\n",
    "    X_train = np.vstack(layer_preds)\n",
    "    y_train = np.array(layer_classes)\n",
    "    \n",
    "    with open(\"train_layer_preds.pkl\", \"wb\") as f: \n",
    "        pickle.dump(layer_preds, f)\n",
    "    with open(\"train_layer_preds_classes.pkl\", \"wb\") as f:\n",
    "        pickle.dump(layer_classes, f)\n",
    "\n",
    "else:\n",
    "    X_train = pickle.load(open(\"train_layer_preds.pkl\",\"rb\"))\n",
    "    y_train = pickle.load(open(\"train_layer_preds_classes.pkl\",\"rb\"))\n"
   ]
  },
  {
   "cell_type": "code",
   "execution_count": 47,
   "metadata": {},
   "outputs": [],
   "source": [
    "\n",
    "if not os.path.exists(\"test_layer_preds.pkl\"):\n",
    "\n",
    "    layer_preds = []\n",
    "    layer_classes = []\n",
    "\n",
    "    #We will start by creating features training sets\n",
    "    count, total = 0, 807\n",
    "\n",
    "    for imname, label in zip(test_images_filenames, test_labels):\n",
    "        im = np.asarray(Image.open(os.path.join(imname)))\n",
    "        im = np.expand_dims(cv2.resize(im, (IMG_SIZE, IMG_SIZE)), axis=0)\n",
    "        cls = classes[label]\n",
    "\n",
    "        layer_preds.append(model_layer.predict(im))\n",
    "        layer_classes.append(cls)\n",
    "    \n",
    "        count += 1\n",
    "        print('Added images: '+ str(count)+' / '+str(total), end='\\r')\n",
    "\n",
    "    X_test = np.vstack(layer_preds)\n",
    "    y_test = np.array(layer_classes)\n",
    "    \n",
    "    with open(\"test_layer_preds.pkl\", \"wb\") as f: \n",
    "        pickle.dump(layer_preds, f)\n",
    "    with open(\"test_layer_preds_classes.pkl\", \"wb\") as f:\n",
    "        pickle.dump(layer_classes, f)\n",
    "\n",
    "else:\n",
    "    X_test = pickle.load(open(\"test_layer_preds.pkl\",\"rb\"))\n",
    "    y_test = pickle.load(open(\"test_layer_preds_classes.pkl\",\"rb\"))"
   ]
  },
  {
   "cell_type": "code",
   "execution_count": 48,
   "metadata": {},
   "outputs": [
    {
     "name": "stdout",
     "output_type": "stream",
     "text": [
      "\u001b[32mAccuracy on the training set : 0.965 \n",
      "\u001b[0m\u001b[34mAccuracy on the test set : 0.674\u001b[0m"
     ]
    }
   ],
   "source": [
    "#Define SVM Model and scaler\n",
    "svm_model = svm.SVC()\n",
    "scaler = StandardScaler()\n",
    "\n",
    "scaler.fit_transform(X_train)\n",
    "scaler.transform(X_test)\n",
    "\n",
    "#Fit the SVM model to the training data\n",
    "svm_model.fit(X_train, y_train)\n",
    "\n",
    "#Get the predictions for the training and test sets\n",
    "svm_train_preds = svm_model.predict(X_train)\n",
    "svm_test_preds = svm_model.predict(X_test)\n",
    "\n",
    "#Get accuracy score\n",
    "colorprint(Color.GREEN, f\"Accuracy on the training set : {round(accuracy_score(y_train, svm_train_preds),3)} \\n\")\n",
    "colorprint(Color.BLUE , f\"Accuracy on the test set : {round(accuracy_score(y_test, svm_test_preds),3)}\")\n"
   ]
  },
  {
   "cell_type": "code",
   "execution_count": null,
   "metadata": {},
   "outputs": [],
   "source": []
  },
  {
   "cell_type": "code",
   "execution_count": null,
   "metadata": {},
   "outputs": [],
   "source": []
  }
 ],
 "metadata": {
  "interpreter": {
   "hash": "e761f16af4fd4b55d5bcd3eb004ed95f62065dc2002a55b73b32bd3196c9eb9d"
  },
  "kernelspec": {
   "display_name": "Python 3.8.12 64-bit ('Tf': conda)",
   "language": "python",
   "name": "python3"
  },
  "language_info": {
   "codemirror_mode": {
    "name": "ipython",
    "version": 3
   },
   "file_extension": ".py",
   "mimetype": "text/x-python",
   "name": "python",
   "nbconvert_exporter": "python",
   "pygments_lexer": "ipython3",
   "version": "3.9.9"
  },
  "orig_nbformat": 4
 },
 "nbformat": 4,
 "nbformat_minor": 2
}
