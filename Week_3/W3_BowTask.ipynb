{
 "cells": [
  {
   "cell_type": "code",
   "execution_count": 7,
   "metadata": {
    "id": "ff1wj6gZfXvy"
   },
   "outputs": [],
   "source": [
    "from __future__ import print_function\n",
    "from utils import *\n",
    "from tensorflow.keras.models import Sequential, Model\n",
    "from tensorflow.keras.layers import Flatten, Dense, Reshape\n",
    "from tensorflow.keras.preprocessing.image import ImageDataGenerator\n",
    "from tensorflow.keras.utils import plot_model\n",
    "import os\n",
    "from sklearn.cluster import MiniBatchKMeans\n",
    "from sklearn import svm\n",
    "from sklearn.model_selection import GridSearchCV, RandomizedSearchCV\n",
    "from sklearn.metrics import f1_score, classification_report, accuracy_score, plot_confusion_matrix, roc_curve, auc\n",
    "import pickle\n",
    "from matplotlib import pyplot as plt\n",
    "import seaborn as sns"
   ]
  },
  {
   "cell_type": "code",
   "execution_count": 2,
   "metadata": {
    "id": "V3PGv_WkfEpP"
   },
   "outputs": [],
   "source": [
    "#user defined variables\n",
    "PATCH_SIZE  = 64\n",
    "BATCH_SIZE  = 32\n",
    "DATASET_DIR = 'MIT_split'\n",
    "PATCHES_DIR = 'MIT_split_patches'\n",
    "MODEL_FNAME = 'patch_based_mlp_64.h5'\n",
    "\n",
    "def build_mlp(input_size=PATCH_SIZE,phase='TRAIN'):\n",
    "    model = Sequential()\n",
    "    model.add(Reshape((input_size*input_size*3,),input_shape=(input_size, input_size, 3)))\n",
    "    model.add(Dense(units=2048, activation='relu',name='second'))\n",
    "    #model.add(BatchNormalization())\n",
    "    #model.add(Dropout(0.2))\n",
    "    model.add(Dense(units=1024, activation='relu', name='third'))\n",
    "    #model.add(Dropout(0.2))\n",
    "    model.add(Dense(units=512, activation='relu', name='fourth'))\n",
    "    if phase=='TEST':\n",
    "        model.add(Dense(units=8, activation='linear')) # In test phase we softmax the average output over the image patches\n",
    "    else:\n",
    "        model.add(Dense(units=8, activation='softmax'))\n",
    "    return model\n",
    "\n",
    "if not os.path.exists(DATASET_DIR):\n",
    "    colorprint(Color.RED, 'ERROR: dataset directory '+DATASET_DIR+' do not exists!\\n')\n",
    "    quit()\n",
    "    \n",
    "if not os.path.exists(PATCHES_DIR):\n",
    "    colorprint(Color.YELLOW, 'WARNING: patches dataset directory '+PATCHES_DIR+' do not exists!\\n')\n",
    "    colorprint(Color.BLUE, 'Creating image patches dataset into '+PATCHES_DIR+'\\n')\n",
    "    generate_image_patches_db(DATASET_DIR,PATCHES_DIR,patch_size=PATCH_SIZE)\n",
    "    colorprint(Color.BLUE, 'Done!\\n')"
   ]
  },
  {
   "cell_type": "code",
   "execution_count": null,
   "metadata": {
    "colab": {
     "base_uri": "https://localhost:8080/"
    },
    "id": "evJrEMDdu18J",
    "outputId": "e80df09d-4f5d-4bd0-a925-17e1f47e2a49"
   },
   "outputs": [],
   "source": [
    "colorprint(Color.BLUE, 'Building MLP model...\\n')\n",
    "model = build_mlp(input_size=PATCH_SIZE)\n",
    "\n",
    "model.compile(loss='categorical_crossentropy',\n",
    "              optimizer='sgd',\n",
    "              metrics=['accuracy'])\n",
    "\n",
    "print(model.summary())\n",
    "\n",
    "colorprint(Color.BLUE, 'Done!\\n')\n",
    "\n",
    "if not os.path.exists(MODEL_FNAME):\n",
    "    colorprint(Color.YELLOW, 'WARNING: model file '+MODEL_FNAME+' do not exists!\\n')\n",
    "    colorprint(Color.BLUE, 'Start training...\\n')\n",
    "    # this is the dataset configuration we will use for training\n",
    "    # only rescaling\n",
    "    train_datagen = ImageDataGenerator(\n",
    "          rescale=1./255,\n",
    "          horizontal_flip=True)\n",
    "\n",
    "    # this is the dataset configuration we will use for testing:\n",
    "    # only rescaling\n",
    "    test_datagen = ImageDataGenerator(rescale=1./255)\n",
    "\n",
    "    # this is a generator that will read pictures found in\n",
    "    # subfolers of 'data/train', and indefinitely generate\n",
    "    # batches of augmented image data\n",
    "    train_generator = train_datagen.flow_from_directory(\n",
    "          PATCHES_DIR+'/train',  # this is the target directory\n",
    "          target_size=(PATCH_SIZE, PATCH_SIZE),  # all images will be resized to PATCH_SIZExPATCH_SIZE\n",
    "          batch_size=BATCH_SIZE,\n",
    "          classes = ['coast','forest','highway','inside_city','mountain','Opencountry','street','tallbuilding'],\n",
    "          class_mode='categorical')  # since we use binary_crossentropy loss, we need categorical labels\n",
    "\n",
    "    # this is a similar generator, for validation data\n",
    "    validation_generator = test_datagen.flow_from_directory(\n",
    "          PATCHES_DIR+'/test',\n",
    "          target_size=(PATCH_SIZE, PATCH_SIZE),\n",
    "          batch_size=BATCH_SIZE,\n",
    "          classes = ['coast','forest','highway','inside_city','mountain','Opencountry','street','tallbuilding'],\n",
    "          class_mode='categorical')\n",
    "\n",
    "    model.fit_generator(\n",
    "          train_generator,\n",
    "          steps_per_epoch=18810 // BATCH_SIZE,\n",
    "          epochs=75,\n",
    "          validation_data=validation_generator,\n",
    "          validation_steps=8070 // BATCH_SIZE)\n",
    "\n",
    "    colorprint(Color.BLUE, 'Done!\\n')\n",
    "    colorprint(Color.BLUE, 'Saving the model into '+MODEL_FNAME+' \\n')\n",
    "    model.save_weights(MODEL_FNAME)  # always save your weights after training or during training\n",
    "    colorprint(Color.BLUE, 'Done!\\n')"
   ]
  },
  {
   "cell_type": "code",
   "execution_count": 8,
   "metadata": {},
   "outputs": [],
   "source": [
    "model = build_mlp(input_size=PATCH_SIZE, phase='TEST')"
   ]
  },
  {
   "cell_type": "markdown",
   "metadata": {
    "id": "8-JzYv7J9Pq8"
   },
   "source": [
    "Patch size=64 -> Test_acc=%74 <br>\n",
    "Patch size=32 -> Test_acc=%73 <br>\n",
    "Patch size=16 -> Test_acc=%60 <br>\n",
    "Patch size=8 -> Test_acc=%56 <br>"
   ]
  },
  {
   "cell_type": "code",
   "execution_count": null,
   "metadata": {
    "colab": {
     "base_uri": "https://localhost:8080/"
    },
    "id": "XbME0auPfgjQ",
    "outputId": "b8527bd9-896e-4a0c-89d8-339e2df636ad"
   },
   "outputs": [],
   "source": [
    "colorprint(Color.BLUE, 'Building MLP model for testing...\\n')\n",
    "\n",
    "model = build_mlp(input_size=PATCH_SIZE, phase='TEST')\n",
    "print(model.summary())\n",
    "\n",
    "colorprint(Color.BLUE, 'Done!\\n')\n",
    "\n",
    "colorprint(Color.BLUE, 'Loading weights from '+MODEL_FNAME+' ...\\n')\n",
    "print ('\\n')\n",
    "\n",
    "model.load_weights(MODEL_FNAME)\n",
    "\n",
    "colorprint(Color.BLUE, 'Done!\\n')\n",
    "\n",
    "colorprint(Color.BLUE, 'Start evaluation ...\\n')\n",
    "\n",
    "directory = DATASET_DIR + '/test'\n",
    "classes = {'coast':0,'forest':1,'highway':2,'inside_city':3,'mountain':4,'Opencountry':5,'street':6,'tallbuilding':7}\n",
    "correct = 0.\n",
    "total   = 807\n",
    "count   = 0\n",
    "\n",
    "for class_dir in os.listdir(directory):\n",
    "    cls = classes[class_dir]\n",
    "    for imname in os.listdir(os.path.join(directory,class_dir)):\n",
    "        im = Image.open(os.path.join(directory,class_dir,imname))\n",
    "        patches = image.extract_patches_2d(np.array(im), (PATCH_SIZE, PATCH_SIZE), max_patches=int(np.array(im).shape[0]/PATCH_SIZE)**2)\n",
    "        out = model.predict(patches/255.)\n",
    "        predicted_cls = np.argmax(softmax(np.mean(out,axis=0)) )\n",
    "        if predicted_cls == cls:\n",
    "            correct+=1\n",
    "            count += 1\n",
    "    print('Evaluated images: '+str(count)+' / '+str(total), end='\\r')\n",
    "    \n",
    "colorprint(Color.BLUE, 'Done!\\n')\n",
    "colorprint(Color.GREEN, 'Test Acc. = '+str(correct/total)+'\\n')"
   ]
  },
  {
   "cell_type": "code",
   "execution_count": 22,
   "metadata": {},
   "outputs": [
    {
     "name": "stderr",
     "output_type": "stream",
     "text": [
      "D:\\Uygulamalar\\Anaconda\\envs\\myenv\\lib\\site-packages\\seaborn\\_decorators.py:43: FutureWarning: Pass the following variables as keyword args: x, y. From version 0.12, the only valid positional argument will be `data`, and passing other arguments without an explicit keyword will result in an error or misinterpretation.\n",
      "  FutureWarning\n"
     ]
    },
    {
     "data": {
      "image/png": "[encoded data removed]",
      "text/plain": [
       "<Figure size 864x576 with 1 Axes>"
      ]
     },
     "metadata": {},
     "output_type": "display_data"
    }
   ],
   "source": [
    "x = [8, 16, 32, 64]\n",
    "y = [0.56, 0.6, 0.73, 0.74]\n",
    "\n",
    "sns.barplot(x, y)\n",
    "plt.xlabel(\"Patch Size\", fontsize=20)\n",
    "plt.xticks(fontsize=16)\n",
    "plt.yticks(fontsize=16)\n",
    "plt.title(\"Accuracy of different patch sizes\", fontsize=20)\n",
    "sns.set(rc={'figure.figsize':(12, 8)})"
   ]
  },
  {
   "cell_type": "code",
   "execution_count": null,
   "metadata": {},
   "outputs": [],
   "source": [
    "layer = Model(inputs=model.input, outputs=model.get_layer('third').output)\n",
    "\n",
    "directory = DATASET_DIR + '/train'\n",
    "layer_preds_train = []\n",
    "for class_dir in os.listdir(directory):\n",
    "    cls = classes[class_dir]\n",
    "    for imname in os.listdir(os.path.join(directory,class_dir)):\n",
    "        im = Image.open(os.path.join(directory,class_dir,imname))\n",
    "        patches = image.extract_patches_2d(np.array(im), (PATCH_SIZE, PATCH_SIZE), max_patches=int(np.array(im).shape[0]/PATCH_SIZE)**2)\n",
    "        out = layer.predict(patches/255.)\n",
    "        layer_preds_train.append(out)\n",
    "        \n",
    "        \n",
    "directory = DATASET_DIR + '/test'    \n",
    "layer_preds_test = []\n",
    "for class_dir in os.listdir(directory):\n",
    "    cls = classes[class_dir]\n",
    "    for imname in os.listdir(os.path.join(directory,class_dir)):\n",
    "        im = Image.open(os.path.join(directory,class_dir,imname))\n",
    "        patches = image.extract_patches_2d(np.array(im), (PATCH_SIZE, PATCH_SIZE), max_patches=int(np.array(im).shape[0]/PATCH_SIZE)**2)\n",
    "        out = layer.predict(patches/255.)\n",
    "        layer_preds_test.append(out)"
   ]
  },
  {
   "cell_type": "code",
   "execution_count": null,
   "metadata": {},
   "outputs": [],
   "source": [
    "layer_preds_test[0].shape"
   ]
  },
  {
   "cell_type": "code",
   "execution_count": null,
   "metadata": {},
   "outputs": [],
   "source": [
    "def histogramIntersection(data_1, data_2):\n",
    "    kernel = np.zeros((data_1.shape[0], data_2.shape[0]))\n",
    "\n",
    "    for d in range(data_1.shape[1]):\n",
    "        column_1 = data_1[:, d].reshape(-1, 1)\n",
    "        column_2 = data_2[:, d].reshape(-1, 1)\n",
    "        kernel += np.minimum(column_1, column_2.T)\n",
    "\n",
    "    return kernel"
   ]
  },
  {
   "cell_type": "code",
   "execution_count": null,
   "metadata": {},
   "outputs": [],
   "source": [
    "train_labels = pickle.load(open('MIT_split//train_labels.dat','rb'))\n",
    "test_labels = pickle.load(open('MIT_split//test_labels.dat','rb'))"
   ]
  },
  {
   "cell_type": "code",
   "execution_count": null,
   "metadata": {},
   "outputs": [],
   "source": [
    "k = 512\n",
    "\n",
    "codebook = get_codebook(layer_preds_train, k)\n",
    "visual_words_train = get_visual_words(codebook, layer_preds_train, k)\n",
    "visual_words_test = get_visual_words(codebook, layer_preds_test, k)"
   ]
  },
  {
   "cell_type": "code",
   "execution_count": null,
   "metadata": {},
   "outputs": [],
   "source": [
    "params = [{'kernel':('poly', 'rbf', histogramIntersection),\n",
    "           \"C\":[0.01, 0.05, 0.1, 0.5]}]\n",
    "\n",
    "svc = svm.SVC() \n",
    "svm_grid = GridSearchCV(svc, params, cv=8, \n",
    "                        scoring=[\"accuracy\", \"f1_macro\"], refit=\"accuracy\", return_train_score=True)\n",
    "\n",
    "svm_grid.fit(visual_words_train, train_labels)"
   ]
  },
  {
   "cell_type": "code",
   "execution_count": null,
   "metadata": {},
   "outputs": [],
   "source": [
    "svm_grid.best_params_"
   ]
  },
  {
   "cell_type": "code",
   "execution_count": null,
   "metadata": {
    "scrolled": true
   },
   "outputs": [],
   "source": [
    "svc = svm.SVC(kernel=histogramIntersection, C=0.05) \n",
    "svc.fit(visual_words_train, train_labels)\n",
    "train_preds = svc.predict(visual_words_train)\n",
    "test_preds = svc.predict(visual_words_test)\n",
    "\n",
    "print(\"Train\", accuracy_score(train_labels, train_preds))\n",
    "print(\"Test\", accuracy_score(test_labels, test_preds))"
   ]
  },
  {
   "cell_type": "code",
   "execution_count": 14,
   "metadata": {},
   "outputs": [],
   "source": [
    "X = [64,128,192,256,512]\n",
    "Y1 = [0.5, 0.52, 0.54, 0.54, 0.56]\n",
    "Y2 = [0.54, 0.57, 0.57, 0.57, 0.58]"
   ]
  },
  {
   "cell_type": "code",
   "execution_count": 25,
   "metadata": {},
   "outputs": [
    {
     "data": {
      "text/plain": [
       "<Figure size 1296x432 with 0 Axes>"
      ]
     },
     "execution_count": 25,
     "metadata": {},
     "output_type": "execute_result"
    },
    {
     "data": {
      "image/png": "[encoded data removed]",
      "text/plain": [
       "<Figure size 864x576 with 1 Axes>"
      ]
     },
     "metadata": {},
     "output_type": "display_data"
    },
    {
     "data": {
      "text/plain": [
       "<Figure size 1296x432 with 0 Axes>"
      ]
     },
     "metadata": {},
     "output_type": "display_data"
    }
   ],
   "source": [
    "plt.plot(X, Y1)\n",
    "plt.plot(X, Y2)\n",
    "\n",
    "plt.title(\"Accuracy of 3. and 4. layer descriptors with BoW\", fontsize=20)\n",
    "plt.xlabel(\"Codebook Size\", fontsize=20)\n",
    "plt.xticks(ticks=[64,128,192,256,512], fontsize=16)\n",
    "plt.yticks(ticks=np.arange(0.5,0.6,0.01), fontsize=16)\n",
    "plt.legend(['Third', 'Fourth'], loc='lower right', fontsize=20)\n",
    "plt.figure(figsize=(18,6))\n"
   ]
  },
  {
   "cell_type": "code",
   "execution_count": null,
   "metadata": {},
   "outputs": [],
   "source": [
    "X = np.arange(4)\n",
    "fig = plt.figure()\n",
    "ax = fig.add_axes([0,0,1,1])\n",
    "ax.bar(X + 0.00, Y1, color = 'b', width = 0.25)\n",
    "ax.bar(X + 0.25, Y2, color = 'g', width = 0.25)\n"
   ]
  },
  {
   "cell_type": "markdown",
   "metadata": {},
   "source": [
    "## Third layer\n",
    "\n",
    "64 = %50 <br>\n",
    "128 = %52 <br>\n",
    "192 = %54 <br>\n",
    "256 = %54 <br>\n",
    "512 = %56"
   ]
  },
  {
   "cell_type": "markdown",
   "metadata": {},
   "source": [
    "## Fourth layer\n",
    "\n",
    " 64 = %54 <br>\n",
    "128 = %57 <br>\n",
    "192 = %57 <br>\n",
    "256 = %57 <br>\n",
    "512 = %58"
   ]
  }
 ],
 "metadata": {
  "accelerator": "GPU",
  "colab": {
   "collapsed_sections": [],
   "name": "W3_BowTask.ipynb",
   "provenance": []
  },
  "kernelspec": {
   "display_name": "Python 3",
   "language": "python",
   "name": "python3"
  },
  "language_info": {
   "codemirror_mode": {
    "name": "ipython",
    "version": 3
   },
   "file_extension": ".py",
   "mimetype": "text/x-python",
   "name": "python",
   "nbconvert_exporter": "python",
   "pygments_lexer": "ipython3",
   "version": "3.7.9"
  }
 },
 "nbformat": 4,
 "nbformat_minor": 1
}
